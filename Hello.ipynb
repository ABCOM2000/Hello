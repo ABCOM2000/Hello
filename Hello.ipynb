{
  "nbformat": 4,
  "nbformat_minor": 0,
  "metadata": {
    "colab": {
      "name": "Hello.ipynb",
      "provenance": []
    },
    "kernelspec": {
      "name": "python3",
      "display_name": "Python 3"
    },
    "language_info": {
      "name": "python"
    }
  },
  "cells": [
    {
      "cell_type": "markdown",
      "metadata": {
        "id": "HAqt-3qduJhp"
      },
      "source": [
        "# Simple Hello project"
      ]
    },
    {
      "cell_type": "markdown",
      "metadata": {
        "id": "JX2KxoX0-egU"
      },
      "source": [
        "This prints Hello World!"
      ]
    },
    {
      "cell_type": "code",
      "metadata": {
        "colab": {
          "base_uri": "https://localhost:8080/"
        },
        "id": "Ifzi5P8cuIoo",
        "outputId": "16691621-d796-404f-b3e6-8691de8c61dd"
      },
      "source": [
        "print('Hello, World!')"
      ],
      "execution_count": 4,
      "outputs": [
        {
          "output_type": "stream",
          "text": [
            "Hello, World!\n"
          ],
          "name": "stdout"
        }
      ]
    },
    {
      "cell_type": "code",
      "metadata": {
        "colab": {
          "base_uri": "https://localhost:8080/"
        },
        "id": "4QCwQJLuAYlJ",
        "outputId": "6494d2ad-5879-4bb7-bbdc-e704622a655f"
      },
      "source": [
        "print(\"I got it.)\")"
      ],
      "execution_count": 5,
      "outputs": [
        {
          "output_type": "stream",
          "text": [
            "I got it.)\n"
          ],
          "name": "stdout"
        }
      ]
    }
  ]
}